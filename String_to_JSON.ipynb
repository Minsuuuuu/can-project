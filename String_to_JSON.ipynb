{
 "cells": [
  {
   "cell_type": "code",
   "execution_count": 3,
   "id": "a123177d-14c2-4353-8eaa-077ad2433bea",
   "metadata": {},
   "outputs": [],
   "source": [
    "import re\n",
    "import json\n",
    "import datetime\n",
    "import numpy as np\n",
    "import pandas as pd\n",
    "\n",
    "import matplotlib.pyplot as plt\n",
    "import seaborn as sns\n",
    "\n",
    "import matplotlib.dates as mdates"
   ]
  },
  {
   "cell_type": "code",
   "execution_count": 4,
   "id": "1e1065e2-0d83-42eb-860c-8f6851e59e62",
   "metadata": {},
   "outputs": [],
   "source": [
    "can_info_raw = '''* Speed(km/h)\n",
    "    * ID =   AC2\n",
    "    * Start Bit   = 72\n",
    "    * Length =   8\n",
    "    * Factor  = 1\n",
    "    * Offset =    0\n",
    "\n",
    "* SoC\n",
    "    * ID = 625\n",
    "    * Start Bit = 88\n",
    "    * Length = 8\n",
    "    * Factor = 0.005\n",
    "    * Offset = 0'''"
   ]
  },
  {
   "cell_type": "code",
   "execution_count": 5,
   "id": "ee299cc0-3a75-4d6f-b23e-43a0df723d63",
   "metadata": {},
   "outputs": [],
   "source": [
    "can_info = re.sub('\\s+=\\s+', ': ', can_info_raw)\n",
    "can_info = re.sub(' *\\* +', '', can_info)"
   ]
  },
  {
   "cell_type": "code",
   "execution_count": 6,
   "id": "383dae58-efd2-4224-b7cd-e2e5229b465e",
   "metadata": {},
   "outputs": [],
   "source": [
    "can_info_list = []\n",
    "for can_info in can_info.split('\\n\\n'):\n",
    "    can_info = 'Title: ' + can_info\n",
    "    \n",
    "    can_info_dict = {}\n",
    "    for line in can_info.split('\\n'):\n",
    "        key, value = line.split(': ')\n",
    "        can_info_dict[key] = value\n",
    "    \n",
    "    can_info_list.append(can_info_dict)"
   ]
  },
  {
   "cell_type": "code",
   "execution_count": 7,
   "id": "4e0b7071-1bcc-4e5a-8cde-dbb2fbe3b90a",
   "metadata": {},
   "outputs": [
    {
     "data": {
      "text/html": [
       "<div>\n",
       "<style scoped>\n",
       "    .dataframe tbody tr th:only-of-type {\n",
       "        vertical-align: middle;\n",
       "    }\n",
       "\n",
       "    .dataframe tbody tr th {\n",
       "        vertical-align: top;\n",
       "    }\n",
       "\n",
       "    .dataframe thead th {\n",
       "        text-align: right;\n",
       "    }\n",
       "</style>\n",
       "<table border=\"1\" class=\"dataframe\">\n",
       "  <thead>\n",
       "    <tr style=\"text-align: right;\">\n",
       "      <th></th>\n",
       "      <th>Title</th>\n",
       "      <th>ID</th>\n",
       "      <th>Start Bit</th>\n",
       "      <th>Length</th>\n",
       "      <th>Factor</th>\n",
       "      <th>Offset</th>\n",
       "    </tr>\n",
       "  </thead>\n",
       "  <tbody>\n",
       "    <tr>\n",
       "      <th>0</th>\n",
       "      <td>Speed(km/h)</td>\n",
       "      <td>AC2</td>\n",
       "      <td>72</td>\n",
       "      <td>8</td>\n",
       "      <td>1</td>\n",
       "      <td>0</td>\n",
       "    </tr>\n",
       "    <tr>\n",
       "      <th>1</th>\n",
       "      <td>SoC</td>\n",
       "      <td>625</td>\n",
       "      <td>88</td>\n",
       "      <td>8</td>\n",
       "      <td>0.005</td>\n",
       "      <td>0</td>\n",
       "    </tr>\n",
       "  </tbody>\n",
       "</table>\n",
       "</div>"
      ],
      "text/plain": [
       "         Title   ID Start Bit Length Factor Offset\n",
       "0  Speed(km/h)  AC2        72      8      1      0\n",
       "1          SoC  625        88      8  0.005      0"
      ]
     },
     "execution_count": 7,
     "metadata": {},
     "output_type": "execute_result"
    }
   ],
   "source": [
    "can_info_df = pd.DataFrame(can_info_list)\n",
    "can_info_df"
   ]
  },
  {
   "cell_type": "code",
   "execution_count": 9,
   "id": "66c6fb4a-c0e4-495f-a93a-d9c01ff6ddb7",
   "metadata": {},
   "outputs": [
    {
     "name": "stdout",
     "output_type": "stream",
     "text": [
      "[{'Title': 'Speed(km/h)', 'ID': 'AC2', 'Start Bit': '72', 'Length': '8', 'Factor': '1', 'Offset': '0'}, {'Title': 'SoC', 'ID': '625', 'Start Bit': '88', 'Length': '8', 'Factor': '0.005', 'Offset': '0'}]\n"
     ]
    },
    {
     "data": {
      "text/html": [
       "<div>\n",
       "<style scoped>\n",
       "    .dataframe tbody tr th:only-of-type {\n",
       "        vertical-align: middle;\n",
       "    }\n",
       "\n",
       "    .dataframe tbody tr th {\n",
       "        vertical-align: top;\n",
       "    }\n",
       "\n",
       "    .dataframe thead th {\n",
       "        text-align: right;\n",
       "    }\n",
       "</style>\n",
       "<table border=\"1\" class=\"dataframe\">\n",
       "  <thead>\n",
       "    <tr style=\"text-align: right;\">\n",
       "      <th></th>\n",
       "      <th>Title</th>\n",
       "      <th>ID</th>\n",
       "      <th>Start Bit</th>\n",
       "      <th>Length</th>\n",
       "      <th>Factor</th>\n",
       "      <th>Offset</th>\n",
       "    </tr>\n",
       "  </thead>\n",
       "  <tbody>\n",
       "    <tr>\n",
       "      <th>0</th>\n",
       "      <td>Speed(km/h)</td>\n",
       "      <td>AC2</td>\n",
       "      <td>72</td>\n",
       "      <td>8</td>\n",
       "      <td>1</td>\n",
       "      <td>0</td>\n",
       "    </tr>\n",
       "    <tr>\n",
       "      <th>1</th>\n",
       "      <td>SoC</td>\n",
       "      <td>625</td>\n",
       "      <td>88</td>\n",
       "      <td>8</td>\n",
       "      <td>0.005</td>\n",
       "      <td>0</td>\n",
       "    </tr>\n",
       "  </tbody>\n",
       "</table>\n",
       "</div>"
      ],
      "text/plain": [
       "         Title   ID Start Bit Length Factor Offset\n",
       "0  Speed(km/h)  AC2        72      8      1      0\n",
       "1          SoC  625        88      8  0.005      0"
      ]
     },
     "execution_count": 9,
     "metadata": {},
     "output_type": "execute_result"
    }
   ],
   "source": [
    "with open('output2.json', 'w') as json_file:\n",
    "    json.dump(can_info_list, json_file, indent = 4)\n",
    "\n",
    "with open('output2.json', 'r') as json_file:\n",
    "    data = json.load(json_file)\n",
    "    print(data)\n",
    "\n",
    "df = pd.DataFrame(data)\n",
    "df"
   ]
  }
 ],
 "metadata": {
  "kernelspec": {
   "display_name": "Python 3 (ipykernel)",
   "language": "python",
   "name": "python3"
  },
  "language_info": {
   "codemirror_mode": {
    "name": "ipython",
    "version": 3
   },
   "file_extension": ".py",
   "mimetype": "text/x-python",
   "name": "python",
   "nbconvert_exporter": "python",
   "pygments_lexer": "ipython3",
   "version": "3.11.4"
  }
 },
 "nbformat": 4,
 "nbformat_minor": 5
}
