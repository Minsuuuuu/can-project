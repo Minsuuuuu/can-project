{
 "cells": [
  {
   "cell_type": "code",
   "execution_count": 1,
   "id": "34caa362",
   "metadata": {},
   "outputs": [],
   "source": [
    "import re\n",
    "import json\n",
    "import datetime\n",
    "import numpy as np\n",
    "import pandas as pd\n",
    "\n",
    "import matplotlib.pyplot as plt\n",
    "import seaborn as sns\n",
    "\n",
    "import matplotlib.dates as mdates"
   ]
  },
  {
   "cell_type": "markdown",
   "id": "68289138",
   "metadata": {},
   "source": [
    "### re "
   ]
  },
  {
   "cell_type": "code",
   "execution_count": 42,
   "id": "bef0652a",
   "metadata": {},
   "outputs": [],
   "source": [
    "can_info_raw = '''* Speed(km/h)\n",
    "    * ID =   AC2\n",
    "    * Start Bit   = 72\n",
    "    * Length =   8\n",
    "    * Factor  = 1\n",
    "    * Offset =    0\n",
    "\n",
    "* SoC\n",
    "    * ID = 625\n",
    "    * Start Bit = 88\n",
    "    * Length = 8\n",
    "    * Factor = 0.005\n",
    "    * Offset = 0'''"
   ]
  },
  {
   "cell_type": "code",
   "execution_count": 43,
   "id": "b082e22d",
   "metadata": {},
   "outputs": [],
   "source": [
    "can_info = re.sub('\\s+=\\s+', ': ', can_info_raw)\n",
    "can_info = re.sub(' *\\* +', '', can_info)"
   ]
  },
  {
   "cell_type": "code",
   "execution_count": 44,
   "id": "daaef7e3",
   "metadata": {},
   "outputs": [],
   "source": [
    "can_info_list = []\n",
    "for can_info in can_info.split('\\n\\n'):\n",
    "    can_info = 'Title: ' + can_info\n",
    "    \n",
    "    can_info_dict = {}\n",
    "    for line in can_info.split('\\n'):\n",
    "        key, value = line.split(': ')\n",
    "        can_info_dict[key] = value\n",
    "    \n",
    "    can_info_list.append(can_info_dict)"
   ]
  },
  {
   "cell_type": "code",
   "execution_count": 92,
   "id": "7f55dc2e",
   "metadata": {
    "scrolled": true
   },
   "outputs": [
    {
     "data": {
      "text/html": [
       "<div>\n",
       "<style scoped>\n",
       "    .dataframe tbody tr th:only-of-type {\n",
       "        vertical-align: middle;\n",
       "    }\n",
       "\n",
       "    .dataframe tbody tr th {\n",
       "        vertical-align: top;\n",
       "    }\n",
       "\n",
       "    .dataframe thead th {\n",
       "        text-align: right;\n",
       "    }\n",
       "</style>\n",
       "<table border=\"1\" class=\"dataframe\">\n",
       "  <thead>\n",
       "    <tr style=\"text-align: right;\">\n",
       "      <th></th>\n",
       "      <th>Title</th>\n",
       "      <th>ID</th>\n",
       "      <th>Start Bit</th>\n",
       "      <th>Length</th>\n",
       "      <th>Factor</th>\n",
       "      <th>Offset</th>\n",
       "    </tr>\n",
       "  </thead>\n",
       "  <tbody>\n",
       "    <tr>\n",
       "      <th>0</th>\n",
       "      <td>Speed(km/h)</td>\n",
       "      <td>AC2</td>\n",
       "      <td>72</td>\n",
       "      <td>8</td>\n",
       "      <td>1</td>\n",
       "      <td>0</td>\n",
       "    </tr>\n",
       "    <tr>\n",
       "      <th>1</th>\n",
       "      <td>SoC</td>\n",
       "      <td>625</td>\n",
       "      <td>88</td>\n",
       "      <td>8</td>\n",
       "      <td>0.005</td>\n",
       "      <td>0</td>\n",
       "    </tr>\n",
       "  </tbody>\n",
       "</table>\n",
       "</div>"
      ],
      "text/plain": [
       "         Title   ID Start Bit Length Factor Offset\n",
       "0  Speed(km/h)  AC2        72      8      1      0\n",
       "1          SoC  625        88      8  0.005      0"
      ]
     },
     "execution_count": 92,
     "metadata": {},
     "output_type": "execute_result"
    }
   ],
   "source": [
    "can_info_df = pd.DataFrame(can_info_list)\n",
    "can_info_df"
   ]
  },
  {
   "cell_type": "markdown",
   "id": "7c6992dc",
   "metadata": {},
   "source": [
    "### 데이터 로드"
   ]
  },
  {
   "cell_type": "code",
   "execution_count": 97,
   "id": "dc187e8a",
   "metadata": {},
   "outputs": [],
   "source": [
    "def data_load(path):\n",
    "    with open(path, 'r') as f:\n",
    "        df = pd.read_csv(f, delimiter=' ', names=['time', 'type', 'value'])\n",
    "\n",
    "    df = df.drop(columns=\"type\")\n",
    "\n",
    "    return df"
   ]
  },
  {
   "cell_type": "code",
   "execution_count": 98,
   "id": "b2d587d2",
   "metadata": {},
   "outputs": [],
   "source": [
    "path = './candump-sample.log'\n",
    "\n",
    "raw_df = data_load(path)"
   ]
  },
  {
   "cell_type": "markdown",
   "id": "ef695159",
   "metadata": {},
   "source": [
    "### 데이터 전처리"
   ]
  },
  {
   "cell_type": "markdown",
   "id": "66a10faa",
   "metadata": {},
   "source": [
    "#### 날짜 변환"
   ]
  },
  {
   "cell_type": "code",
   "execution_count": 99,
   "id": "7c158878",
   "metadata": {},
   "outputs": [],
   "source": [
    "def time_to_date(df):\n",
    "    df['time'] = df['time'].str[1:-1].astype(float)\n",
    "    df['time'] = np.vectorize(datetime.datetime.fromtimestamp)(df['time'].values)\n",
    "\n",
    "    return df"
   ]
  },
  {
   "cell_type": "code",
   "execution_count": 100,
   "id": "d0b07f21",
   "metadata": {},
   "outputs": [
    {
     "data": {
      "text/html": [
       "<div>\n",
       "<style scoped>\n",
       "    .dataframe tbody tr th:only-of-type {\n",
       "        vertical-align: middle;\n",
       "    }\n",
       "\n",
       "    .dataframe tbody tr th {\n",
       "        vertical-align: top;\n",
       "    }\n",
       "\n",
       "    .dataframe thead th {\n",
       "        text-align: right;\n",
       "    }\n",
       "</style>\n",
       "<table border=\"1\" class=\"dataframe\">\n",
       "  <thead>\n",
       "    <tr style=\"text-align: right;\">\n",
       "      <th></th>\n",
       "      <th>time</th>\n",
       "      <th>value</th>\n",
       "    </tr>\n",
       "  </thead>\n",
       "  <tbody>\n",
       "    <tr>\n",
       "      <th>0</th>\n",
       "      <td>2023-06-22 13:17:58.537614</td>\n",
       "      <td>605##56CECCA5000000001000035055300001000400000...</td>\n",
       "    </tr>\n",
       "    <tr>\n",
       "      <th>1</th>\n",
       "      <td>2023-06-22 13:17:58.572064</td>\n",
       "      <td>640##5D32DD400000000020203000001000000</td>\n",
       "    </tr>\n",
       "    <tr>\n",
       "      <th>2</th>\n",
       "      <td>2023-06-22 13:17:58.577831</td>\n",
       "      <td>9C7##590D0002000000000</td>\n",
       "    </tr>\n",
       "  </tbody>\n",
       "</table>\n",
       "</div>"
      ],
      "text/plain": [
       "                        time  \\\n",
       "0 2023-06-22 13:17:58.537614   \n",
       "1 2023-06-22 13:17:58.572064   \n",
       "2 2023-06-22 13:17:58.577831   \n",
       "\n",
       "                                               value  \n",
       "0  605##56CECCA5000000001000035055300001000400000...  \n",
       "1             640##5D32DD400000000020203000001000000  \n",
       "2                             9C7##590D0002000000000  "
      ]
     },
     "execution_count": 100,
     "metadata": {},
     "output_type": "execute_result"
    }
   ],
   "source": [
    "df = time_to_date(raw_df)\n",
    "df.head(3)"
   ]
  },
  {
   "cell_type": "markdown",
   "id": "89692bcf",
   "metadata": {},
   "source": [
    "#### ID, Data 분리"
   ]
  },
  {
   "cell_type": "code",
   "execution_count": 101,
   "id": "521e7796",
   "metadata": {},
   "outputs": [],
   "source": [
    "def data_of(row):\n",
    "    data = row['value'].split('#')[-1]\n",
    "    if row['is_can_fd']:\n",
    "        data = data[1:]\n",
    "        \n",
    "    return data\n",
    "\n",
    "def separate_id_data(df):\n",
    "    df['id'] = df['value'].str[:3]\n",
    "    df['is_can_fd'] = df['value'].str.contains('##')\n",
    "    df['data'] = df.apply(data_of, axis=1)\n",
    "    df = df.drop(columns='value')\n",
    "    return df"
   ]
  },
  {
   "cell_type": "code",
   "execution_count": 102,
   "id": "a57064f9",
   "metadata": {},
   "outputs": [
    {
     "data": {
      "text/html": [
       "<div>\n",
       "<style scoped>\n",
       "    .dataframe tbody tr th:only-of-type {\n",
       "        vertical-align: middle;\n",
       "    }\n",
       "\n",
       "    .dataframe tbody tr th {\n",
       "        vertical-align: top;\n",
       "    }\n",
       "\n",
       "    .dataframe thead th {\n",
       "        text-align: right;\n",
       "    }\n",
       "</style>\n",
       "<table border=\"1\" class=\"dataframe\">\n",
       "  <thead>\n",
       "    <tr style=\"text-align: right;\">\n",
       "      <th></th>\n",
       "      <th>time</th>\n",
       "      <th>id</th>\n",
       "      <th>is_can_fd</th>\n",
       "      <th>data</th>\n",
       "    </tr>\n",
       "  </thead>\n",
       "  <tbody>\n",
       "    <tr>\n",
       "      <th>0</th>\n",
       "      <td>2023-06-22 13:17:58.537614</td>\n",
       "      <td>605</td>\n",
       "      <td>True</td>\n",
       "      <td>6CECCA5000000001000035055300001000400000040000...</td>\n",
       "    </tr>\n",
       "    <tr>\n",
       "      <th>1</th>\n",
       "      <td>2023-06-22 13:17:58.572064</td>\n",
       "      <td>640</td>\n",
       "      <td>True</td>\n",
       "      <td>D32DD400000000020203000001000000</td>\n",
       "    </tr>\n",
       "    <tr>\n",
       "      <th>2</th>\n",
       "      <td>2023-06-22 13:17:58.577831</td>\n",
       "      <td>9C7</td>\n",
       "      <td>True</td>\n",
       "      <td>90D0002000000000</td>\n",
       "    </tr>\n",
       "  </tbody>\n",
       "</table>\n",
       "</div>"
      ],
      "text/plain": [
       "                        time   id  is_can_fd  \\\n",
       "0 2023-06-22 13:17:58.537614  605       True   \n",
       "1 2023-06-22 13:17:58.572064  640       True   \n",
       "2 2023-06-22 13:17:58.577831  9C7       True   \n",
       "\n",
       "                                                data  \n",
       "0  6CECCA5000000001000035055300001000400000040000...  \n",
       "1                   D32DD400000000020203000001000000  \n",
       "2                                   90D0002000000000  "
      ]
     },
     "execution_count": 102,
     "metadata": {},
     "output_type": "execute_result"
    }
   ],
   "source": [
    "df = separate_id_data(df)\n",
    "df.head(3)"
   ]
  },
  {
   "cell_type": "markdown",
   "id": "83c20322",
   "metadata": {},
   "source": [
    "### 데이터 추출"
   ]
  },
  {
   "cell_type": "code",
   "execution_count": 103,
   "id": "1196e5c5",
   "metadata": {},
   "outputs": [],
   "source": [
    "def hex_to_bin(s):\n",
    "    return f'{int(s, 16):b}'.zfill(len(s)*4)\n",
    "\n",
    "def extract_bit_from_hex(s, startbit, length):\n",
    "    startbit = int(startbit)\n",
    "    length = int(length)\n",
    "    b = hex_to_bin(s)\n",
    "    endbit = startbit + length\n",
    "    return b[startbit:endbit]\n",
    "\n",
    "def convert_can(x, can_info):\n",
    "    startbit, length = can_info['Start Bit'], can_info['Length']\n",
    "    b = extract_bit_from_hex(x, startbit, length)\n",
    "    \n",
    "    i = int(b, 2)\n",
    "    \n",
    "    factor, offset = can_info['Factor'], can_info['Offset']\n",
    "    factor = float(factor)\n",
    "    offset = float(offset)\n",
    "    n = i * factor + offset\n",
    "    \n",
    "    return n"
   ]
  },
  {
   "cell_type": "code",
   "execution_count": 104,
   "id": "af2ac017",
   "metadata": {},
   "outputs": [],
   "source": [
    "def process_can(df, can_info_list):\n",
    "    for can_info in can_info_list:\n",
    "        can_id = can_info['ID']\n",
    "        mask = (df['id'] == can_id)\n",
    "        \n",
    "        df[can_info['Title']] = df.loc[mask, 'data'].apply(convert_can, can_info=can_info)"
   ]
  },
  {
   "cell_type": "code",
   "execution_count": 105,
   "id": "2a704140",
   "metadata": {},
   "outputs": [],
   "source": [
    "process_can(df, can_info_list)"
   ]
  },
  {
   "cell_type": "code",
   "execution_count": 111,
   "id": "e302b632",
   "metadata": {},
   "outputs": [
    {
     "data": {
      "text/html": [
       "<div>\n",
       "<style scoped>\n",
       "    .dataframe tbody tr th:only-of-type {\n",
       "        vertical-align: middle;\n",
       "    }\n",
       "\n",
       "    .dataframe tbody tr th {\n",
       "        vertical-align: top;\n",
       "    }\n",
       "\n",
       "    .dataframe thead th {\n",
       "        text-align: right;\n",
       "    }\n",
       "</style>\n",
       "<table border=\"1\" class=\"dataframe\">\n",
       "  <thead>\n",
       "    <tr style=\"text-align: right;\">\n",
       "      <th></th>\n",
       "      <th>time</th>\n",
       "      <th>id</th>\n",
       "      <th>is_can_fd</th>\n",
       "      <th>data</th>\n",
       "      <th>Speed(km/h)</th>\n",
       "      <th>SoC</th>\n",
       "    </tr>\n",
       "  </thead>\n",
       "  <tbody>\n",
       "    <tr>\n",
       "      <th>0</th>\n",
       "      <td>2023-06-22 13:17:58.537614</td>\n",
       "      <td>605</td>\n",
       "      <td>True</td>\n",
       "      <td>6CECCA5000000001000035055300001000400000040000...</td>\n",
       "      <td>NaN</td>\n",
       "      <td>NaN</td>\n",
       "    </tr>\n",
       "    <tr>\n",
       "      <th>1</th>\n",
       "      <td>2023-06-22 13:17:58.572064</td>\n",
       "      <td>640</td>\n",
       "      <td>True</td>\n",
       "      <td>D32DD400000000020203000001000000</td>\n",
       "      <td>NaN</td>\n",
       "      <td>NaN</td>\n",
       "    </tr>\n",
       "    <tr>\n",
       "      <th>2</th>\n",
       "      <td>2023-06-22 13:17:58.577831</td>\n",
       "      <td>9C7</td>\n",
       "      <td>True</td>\n",
       "      <td>90D0002000000000</td>\n",
       "      <td>NaN</td>\n",
       "      <td>NaN</td>\n",
       "    </tr>\n",
       "    <tr>\n",
       "      <th>3</th>\n",
       "      <td>2023-06-22 13:17:58.743256</td>\n",
       "      <td>605</td>\n",
       "      <td>True</td>\n",
       "      <td>905DDE5000000001000035055300001000400000040000...</td>\n",
       "      <td>NaN</td>\n",
       "      <td>NaN</td>\n",
       "    </tr>\n",
       "    <tr>\n",
       "      <th>4</th>\n",
       "      <td>2023-06-22 13:17:58.769723</td>\n",
       "      <td>AC2</td>\n",
       "      <td>True</td>\n",
       "      <td>103F7F10706000000000000000000000</td>\n",
       "      <td>0.0</td>\n",
       "      <td>NaN</td>\n",
       "    </tr>\n",
       "    <tr>\n",
       "      <th>5</th>\n",
       "      <td>2023-06-22 13:17:58.863695</td>\n",
       "      <td>745</td>\n",
       "      <td>True</td>\n",
       "      <td>4FC9D40000000000FF0300000101520001000000CF030000</td>\n",
       "      <td>NaN</td>\n",
       "      <td>NaN</td>\n",
       "    </tr>\n",
       "    <tr>\n",
       "      <th>6</th>\n",
       "      <td>2023-06-22 13:17:58.932608</td>\n",
       "      <td>F93</td>\n",
       "      <td>True</td>\n",
       "      <td>697F000000000001</td>\n",
       "      <td>NaN</td>\n",
       "      <td>NaN</td>\n",
       "    </tr>\n",
       "    <tr>\n",
       "      <th>7</th>\n",
       "      <td>2023-06-22 13:17:58.997205</td>\n",
       "      <td>9C7</td>\n",
       "      <td>True</td>\n",
       "      <td>8840002000000000</td>\n",
       "      <td>NaN</td>\n",
       "      <td>NaN</td>\n",
       "    </tr>\n",
       "    <tr>\n",
       "      <th>8</th>\n",
       "      <td>2023-06-22 13:17:59.031453</td>\n",
       "      <td>605</td>\n",
       "      <td>True</td>\n",
       "      <td>44E8FB5000000001000035055300001000400000040000...</td>\n",
       "      <td>NaN</td>\n",
       "      <td>NaN</td>\n",
       "    </tr>\n",
       "    <tr>\n",
       "      <th>9</th>\n",
       "      <td>2023-06-22 13:17:59.060682</td>\n",
       "      <td>9C7</td>\n",
       "      <td>True</td>\n",
       "      <td>5E70002000000000</td>\n",
       "      <td>NaN</td>\n",
       "      <td>NaN</td>\n",
       "    </tr>\n",
       "  </tbody>\n",
       "</table>\n",
       "</div>"
      ],
      "text/plain": [
       "                        time   id  is_can_fd  \\\n",
       "0 2023-06-22 13:17:58.537614  605       True   \n",
       "1 2023-06-22 13:17:58.572064  640       True   \n",
       "2 2023-06-22 13:17:58.577831  9C7       True   \n",
       "3 2023-06-22 13:17:58.743256  605       True   \n",
       "4 2023-06-22 13:17:58.769723  AC2       True   \n",
       "5 2023-06-22 13:17:58.863695  745       True   \n",
       "6 2023-06-22 13:17:58.932608  F93       True   \n",
       "7 2023-06-22 13:17:58.997205  9C7       True   \n",
       "8 2023-06-22 13:17:59.031453  605       True   \n",
       "9 2023-06-22 13:17:59.060682  9C7       True   \n",
       "\n",
       "                                                data  Speed(km/h)  SoC  \n",
       "0  6CECCA5000000001000035055300001000400000040000...          NaN  NaN  \n",
       "1                   D32DD400000000020203000001000000          NaN  NaN  \n",
       "2                                   90D0002000000000          NaN  NaN  \n",
       "3  905DDE5000000001000035055300001000400000040000...          NaN  NaN  \n",
       "4                   103F7F10706000000000000000000000          0.0  NaN  \n",
       "5   4FC9D40000000000FF0300000101520001000000CF030000          NaN  NaN  \n",
       "6                                   697F000000000001          NaN  NaN  \n",
       "7                                   8840002000000000          NaN  NaN  \n",
       "8  44E8FB5000000001000035055300001000400000040000...          NaN  NaN  \n",
       "9                                   5E70002000000000          NaN  NaN  "
      ]
     },
     "execution_count": 111,
     "metadata": {},
     "output_type": "execute_result"
    }
   ],
   "source": [
    "df.head(10)"
   ]
  },
  {
   "cell_type": "markdown",
   "id": "f59c8e2c",
   "metadata": {},
   "source": [
    "### 시각화"
   ]
  },
  {
   "cell_type": "code",
   "execution_count": 108,
   "id": "cf2ff96c",
   "metadata": {},
   "outputs": [
    {
     "data": {
      "text/html": [
       "<div>\n",
       "<style scoped>\n",
       "    .dataframe tbody tr th:only-of-type {\n",
       "        vertical-align: middle;\n",
       "    }\n",
       "\n",
       "    .dataframe tbody tr th {\n",
       "        vertical-align: top;\n",
       "    }\n",
       "\n",
       "    .dataframe thead th {\n",
       "        text-align: right;\n",
       "    }\n",
       "</style>\n",
       "<table border=\"1\" class=\"dataframe\">\n",
       "  <thead>\n",
       "    <tr style=\"text-align: right;\">\n",
       "      <th></th>\n",
       "      <th>time</th>\n",
       "      <th>SoC</th>\n",
       "    </tr>\n",
       "  </thead>\n",
       "  <tbody>\n",
       "    <tr>\n",
       "      <th>348</th>\n",
       "      <td>2023-06-22 13:18:17.181112</td>\n",
       "      <td>0.940</td>\n",
       "    </tr>\n",
       "    <tr>\n",
       "      <th>677</th>\n",
       "      <td>2023-06-22 13:18:33.599731</td>\n",
       "      <td>0.940</td>\n",
       "    </tr>\n",
       "    <tr>\n",
       "      <th>1229</th>\n",
       "      <td>2023-06-22 13:18:58.178452</td>\n",
       "      <td>0.940</td>\n",
       "    </tr>\n",
       "    <tr>\n",
       "      <th>2080</th>\n",
       "      <td>2023-06-22 13:19:41.426470</td>\n",
       "      <td>0.940</td>\n",
       "    </tr>\n",
       "    <tr>\n",
       "      <th>3466</th>\n",
       "      <td>2023-06-22 13:20:43.443612</td>\n",
       "      <td>0.935</td>\n",
       "    </tr>\n",
       "  </tbody>\n",
       "</table>\n",
       "</div>"
      ],
      "text/plain": [
       "                           time    SoC\n",
       "348  2023-06-22 13:18:17.181112  0.940\n",
       "677  2023-06-22 13:18:33.599731  0.940\n",
       "1229 2023-06-22 13:18:58.178452  0.940\n",
       "2080 2023-06-22 13:19:41.426470  0.940\n",
       "3466 2023-06-22 13:20:43.443612  0.935"
      ]
     },
     "execution_count": 108,
     "metadata": {},
     "output_type": "execute_result"
    }
   ],
   "source": [
    "# 차량 정보 데이터 구분\n",
    "dfs = {can_info['Title']: df[['time', can_info['Title']]].dropna() for can_info in can_info_list}\n",
    "dfs['SoC'].head()"
   ]
  },
  {
   "cell_type": "code",
   "execution_count": 110,
   "id": "c57cff92",
   "metadata": {},
   "outputs": [
    {
     "data": {
      "image/png": "[encoded data removed]",
      "text/plain": [
       "<Figure size 700x500 with 2 Axes>"
      ]
     },
     "metadata": {},
     "output_type": "display_data"
    }
   ],
   "source": [
    "titles = [can_info['Title'] for can_info in can_info_list]\n",
    "\n",
    "fig, axs = plt.subplots(\n",
    "    nrows=len(titles), \n",
    "    ncols=1,\n",
    "    figsize=(7, 5),\n",
    "    sharex='col',\n",
    "    sharey='row',\n",
    ")\n",
    "\n",
    "for i, title in enumerate(titles):\n",
    "    sns.lineplot(ax=axs[i], data=dfs[title], x='time', y=title)\n",
    "plt.tight_layout()\n",
    "plt.show()"
   ]
  },
  {
   "cell_type": "code",
   "execution_count": null,
   "id": "623e69d6",
   "metadata": {},
   "outputs": [],
   "source": []
  }
 ],
 "metadata": {
  "kernelspec": {
   "display_name": "Python 3 (ipykernel)",
   "language": "python",
   "name": "python3"
  },
  "language_info": {
   "codemirror_mode": {
    "name": "ipython",
    "version": 3
   },
   "file_extension": ".py",
   "mimetype": "text/x-python",
   "name": "python",
   "nbconvert_exporter": "python",
   "pygments_lexer": "ipython3",
   "version": "3.9.13"
  }
 },
 "nbformat": 4,
 "nbformat_minor": 5
}
